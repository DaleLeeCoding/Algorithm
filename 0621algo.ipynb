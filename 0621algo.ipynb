{
  "nbformat": 4,
  "nbformat_minor": 0,
  "metadata": {
    "colab": {
      "name": " 0621algo.ipynb",
      "provenance": [],
      "collapsed_sections": []
    },
    "kernelspec": {
      "name": "python3",
      "display_name": "Python 3"
    },
    "language_info": {
      "name": "python"
    }
  },
  "cells": [
    {
      "cell_type": "code",
      "metadata": {
        "id": "3Ya3NpWX3azi"
      },
      "source": [
        "#PROB1. 배수를 거르는 문제\n",
        "##https://app.codesignal.com/arcade/intro/level-5/XC9Q2DhRRKQrfLhb5\n",
        "def avoidObstacles(inputArray):\n",
        "    cnt = 2\n",
        "    ck = False\n",
        "    while 1:\n",
        "        for elem in inputArray:\n",
        "            if elem%cnt == 0:\n",
        "                cnt += 1\n",
        "                break\n",
        "            if elem == inputArray[-1]: #마지막 원소인가\n",
        "                ck = True\n",
        "        if ck == True:\n",
        "                break\n",
        "    return cnt\n",
        "\n",
        "\n",
        "\n",
        "        \n",
        "\n"
      ],
      "execution_count": null,
      "outputs": []
    },
    {
      "cell_type": "code",
      "metadata": {
        "colab": {
          "base_uri": "https://localhost:8080/"
        },
        "id": "rVv6ktiN7cUV",
        "outputId": "f9f75b02-3a12-45f5-f107-e4cc7bbe8d52"
      },
      "source": [
        "# 파이썬 all 함수 예제들\n",
        " \n",
        "# 리스트\n",
        "a = [1,2,3,4,5]\n",
        "result = all(a)\n",
        "print(f'all([1,2,3,4,5]) : {result}')\n",
        " \n",
        " \n",
        "# 리스트 요소에 0 -> False 이 있는 경우\n",
        "b = [1,2,0,4,5]\n",
        "print(f'all([1,2,0,4,5]) : {all(b)}')\n",
        " \n",
        " \n",
        "# 리스트가 비어있는 경우\n",
        "c = []\n",
        "print(f'all([]) : {all(c)}')\n",
        " \n",
        " \n",
        "# 문자열\n",
        "d = 'BlockDMask'\n",
        "print(f'all(\\'BlockDMask\\') : {all(d)}')\n",
        " \n",
        " \n",
        "# 비어있는 문자열\n",
        "e = ''\n",
        "print(f'all(\\'\\') : {all(e)}')\n",
        " \n",
        " \n",
        "# 튜플\n",
        "f = ('b', 3, 'a')\n",
        "print(f\"all(('b', 3, 'a')) : {all(f)}\")\n",
        " \n",
        "# 0이 있는 튜플\n",
        "g = ('b', 2, 0, 'd')\n",
        "print(f\"all(('b', 2, 0, 'd')) : {all(g)}\")\n",
        " \n",
        "# 빈 문자열이 있는 튜플\n",
        "h = ('a', '', 2, 3)\n",
        "print(f\"all(('a', '', 2, 3)) : {all(h)}\")\n",
        " \n",
        "# 비어있는 튜플\n",
        "i = ()\n",
        "print(f\"all(()) : {all(i)}\")\n",
        "\n",
        "\n",
        "#출처: https://blockdmask.tistory.com/430 [개발자 지망생]"
      ],
      "execution_count": 19,
      "outputs": [
        {
          "output_type": "stream",
          "text": [
            "all([1,2,3,4,5]) : True\n",
            "all([1,2,0,4,5]) : False\n",
            "all([]) : True\n",
            "all('BlockDMask') : True\n",
            "all('') : True\n",
            "all(('b', 3, 'a')) : True\n",
            "all(('b', 2, 0, 'd')) : False\n",
            "all(('a', '', 2, 3)) : False\n",
            "all(()) : True\n"
          ],
          "name": "stdout"
        }
      ]
    },
    {
      "cell_type": "code",
      "metadata": {
        "id": "sxFCeZlmAx-u"
      },
      "source": [
        "#matrix 표현\n",
        "res = [[0 for i in range(n)] for j in range(m)]"
      ],
      "execution_count": 86,
      "outputs": []
    },
    {
      "cell_type": "code",
      "metadata": {
        "id": "rwn5xg0KGZZX"
      },
      "source": [
        "##PROB2\n",
        "#https://app.codesignal.com/arcade/intro/level-5/5xPitc3yT3dqS7XkP\n",
        "#행렬 표현, cnn같이 window이동해서 값 계산하기\n",
        "import math\n",
        "def boxBlur(image):\n",
        "    n = len(image[0])\n",
        "    m = len(image)\n",
        "    mat = [[0 for i in range(n-2)] for j in range(m-2)]\n",
        "    for i in range(m-2):\n",
        "        for j in range(n-2):\n",
        "            temp = 0\n",
        "            #temp  += sum(image[i][j:j+3])      #여기서 이렇게 하면 마지막에 index초과. range(1,n-1)로 둔 뒤 \n",
        "            #temp  += sum(image[i+1][j:j+3])\n",
        "            #temp  += sum(image[i+2][j:j+3])\n",
        "            temp  += image[i][j]+image[i][j+1]+image[i][j+2]   #sum([image[i+k][j+l] for k in [-1,0,1] for l in [-1,0,1]]) 이렇게 표현가능!\n",
        "            temp  += image[i+1][j]+image[i+1][j+1]+image[i+1][j+2]\n",
        "            temp  += image[i+2][j]+image[i+2][j+1]+image[i+2][j+2]\n",
        "            temp = math.floor(temp/9) # 그냥 temp//9 로 계산하는게 깔끔할듯\n",
        "            mat[i][j] = temp\n",
        "            \n",
        "    return mat\n",
        "  \n",
        "\n",
        "  ##SKILL\n",
        "  # range(n-2)\n",
        "        \n",
        "\n"
      ],
      "execution_count": null,
      "outputs": []
    },
    {
      "cell_type": "code",
      "metadata": {
        "id": "Q87Xm-9BQgcU"
      },
      "source": [
        "#PROB3\n",
        "#https://app.codesignal.com/arcade/intro/level-5/ZMR5n7vJbexnLrgaM/solutions\n",
        "#지뢰찾기\n",
        "def minesweeper(matrix):\n",
        "    N = len(matrix)\n",
        "    M = len(matrix[0])\n",
        "    mat = [[0 for i in range(M+2)] for j in range(N+2)] #zero padding\n",
        "    res = [[0 for i in range(M)] for j in range(N)]\n",
        "    for i in range(N):\n",
        "        for j in range(M):\n",
        "            mat[i+1][j+1] = matrix[i][j]  \n",
        "    for i in range(N):\n",
        "        for j in range(M):\n",
        "            res[i][j] = sum([mat[i+k+1][j+l+1] for k in [-1, 0, 1] for l in [-1, 0,1]])-mat[i+1][j+1]\n",
        "            \n",
        "    return res\n",
        "    \n",
        "    \n",
        "\n",
        "##다른 풀이\n",
        "def minesweeper(matrix):\n",
        "    N, M = len(matrix), len(matrix[0])\n",
        "    def neighbours(i, j):\n",
        "        return sum(matrix[ii][jj] for ii in range(i-1, i+2) if 0 <= ii < N\n",
        "                                  for jj in range(j-1, j+2) if 0 <= jj < M\n",
        "                                  if i != ii or j != jj)\n",
        "    return [[neighbours(i, j) for j in range(M)] for i in range(N)]"
      ],
      "execution_count": null,
      "outputs": []
    },
    {
      "cell_type": "code",
      "metadata": {
        "id": "kCv2Y8eZPC4k"
      },
      "source": [
        "#PROB4\n",
        "#https://www.acmicpc.net/problem/2920\n",
        "#음계\n",
        "lst = list(map(int, input().split(' ')))\n",
        "if sorted(lst) == lst:\n",
        "  print('ascending')\n",
        "elif sorted(lst, reverse=True) == lst:\n",
        "  print('descending')\n",
        "else:\n",
        "  print('mixed')\n",
        "  "
      ],
      "execution_count": null,
      "outputs": []
    },
    {
      "cell_type": "code",
      "metadata": {
        "colab": {
          "base_uri": "https://localhost:8080/"
        },
        "id": "U2u5lDEBT3j_",
        "outputId": "d70c79ac-298c-4afc-efa0-7726c601818f"
      },
      "source": [
        "#PROB5\n",
        "#https://www.acmicpc.net/problem/2798\n",
        "#블랙잭, 완전탐색, brute-force\n",
        "n, m = map(int, input().split(' '))\n",
        "lst = list(map(int, input().split(' ')))\n",
        "res = 0;\n",
        "for i in range(n-2):\n",
        "  for j in range(i+1, n-1):\n",
        "    for k in range(j+1, n):  \n",
        "      temp = lst[i]+lst[j]+lst[k]\n",
        "      if temp <= m and temp > res:\n",
        "        res = temp\n",
        "print(res)\n"
      ],
      "execution_count": 146,
      "outputs": [
        {
          "output_type": "stream",
          "text": [
            "10 500\n",
            "93 181 245 214 315 36 185 138 216 295\n"
          ],
          "name": "stdout"
        },
        {
          "output_type": "execute_result",
          "data": {
            "text/plain": [
              "497"
            ]
          },
          "metadata": {
            "tags": []
          },
          "execution_count": 146
        }
      ]
    },
    {
      "cell_type": "code",
      "metadata": {
        "colab": {
          "base_uri": "https://localhost:8080/"
        },
        "id": "WIPQ9Tr7T4Hc",
        "outputId": "ee24c9a4-6208-43cf-bdd3-671ac2307679"
      },
      "source": [
        "#PROB6\n",
        "try:\n",
        "    lst = []\n",
        "    res = []\n",
        "    a = int(input())\n",
        "    cnt = 0\n",
        "    for i in range(a):\n",
        "      t = int(input())\n",
        "      if t in lst:\n",
        "          for j in range(len(lst)-lst.index(t)):\n",
        "              lst.pop()\n",
        "              res.append('-')\n",
        "      else:\n",
        "          for k in range(t-cnt):\n",
        "              cnt += 1 \n",
        "              lst.append(cnt)\n",
        "              res.append('+')\n",
        "          lst.pop()\n",
        "          res.append('-')\n",
        "    for elem in res:\n",
        "        print(elem)\n",
        "except:\n",
        "    print('NO')\n"
      ],
      "execution_count": 171,
      "outputs": [
        {
          "output_type": "stream",
          "text": [
            "8\n",
            "4\n",
            "3\n",
            "6\n",
            "8\n",
            "7\n",
            "5\n",
            "2\n",
            "1\n",
            "+\n",
            "+\n",
            "+\n",
            "+\n",
            "-\n",
            "-\n",
            "+\n",
            "+\n",
            "-\n",
            "+\n",
            "+\n",
            "-\n",
            "-\n",
            "-\n",
            "-\n",
            "-\n"
          ],
          "name": "stdout"
        }
      ]
    },
    {
      "cell_type": "code",
      "metadata": {
        "id": "991RpVIDd_sy"
      },
      "source": [
        ""
      ],
      "execution_count": null,
      "outputs": []
    }
  ]
}