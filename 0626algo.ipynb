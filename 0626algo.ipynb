{
  "nbformat": 4,
  "nbformat_minor": 0,
  "metadata": {
    "colab": {
      "name": "0626algo.ipynb",
      "provenance": [],
      "collapsed_sections": [
        "h_KqYsmAQwig"
      ]
    },
    "kernelspec": {
      "name": "python3",
      "display_name": "Python 3"
    },
    "language_info": {
      "name": "python"
    }
  },
  "cells": [
    {
      "cell_type": "markdown",
      "metadata": {
        "id": "h_KqYsmAQwig"
      },
      "source": [
        "#0621"
      ]
    },
    {
      "cell_type": "code",
      "metadata": {
        "id": "3Ya3NpWX3azi"
      },
      "source": [
        "#PROB1. 배수를 거르는 문제\n",
        "##https://app.codesignal.com/arcade/intro/level-5/XC9Q2DhRRKQrfLhb5\n",
        "def avoidObstacles(inputArray):\n",
        "    cnt = 2\n",
        "    ck = False\n",
        "    while 1:\n",
        "        for elem in inputArray:\n",
        "            if elem%cnt == 0:\n",
        "                cnt += 1\n",
        "                break\n",
        "            if elem == inputArray[-1]: #마지막 원소인가\n",
        "                ck = True\n",
        "        if ck == True:\n",
        "                break\n",
        "    return cnt\n",
        "\n",
        "\n",
        "\n",
        "        \n",
        "\n"
      ],
      "execution_count": null,
      "outputs": []
    },
    {
      "cell_type": "code",
      "metadata": {
        "colab": {
          "base_uri": "https://localhost:8080/"
        },
        "id": "rVv6ktiN7cUV",
        "outputId": "f9f75b02-3a12-45f5-f107-e4cc7bbe8d52"
      },
      "source": [
        "# 파이썬 all 함수 예제들\n",
        " \n",
        "# 리스트\n",
        "a = [1,2,3,4,5]\n",
        "result = all(a)\n",
        "print(f'all([1,2,3,4,5]) : {result}')\n",
        " \n",
        " \n",
        "# 리스트 요소에 0 -> False 이 있는 경우\n",
        "b = [1,2,0,4,5]\n",
        "print(f'all([1,2,0,4,5]) : {all(b)}')\n",
        " \n",
        " \n",
        "# 리스트가 비어있는 경우\n",
        "c = []\n",
        "print(f'all([]) : {all(c)}')\n",
        " \n",
        " \n",
        "# 문자열\n",
        "d = 'BlockDMask'\n",
        "print(f'all(\\'BlockDMask\\') : {all(d)}')\n",
        " \n",
        " \n",
        "# 비어있는 문자열\n",
        "e = ''\n",
        "print(f'all(\\'\\') : {all(e)}')\n",
        " \n",
        " \n",
        "# 튜플\n",
        "f = ('b', 3, 'a')\n",
        "print(f\"all(('b', 3, 'a')) : {all(f)}\")\n",
        " \n",
        "# 0이 있는 튜플\n",
        "g = ('b', 2, 0, 'd')\n",
        "print(f\"all(('b', 2, 0, 'd')) : {all(g)}\")\n",
        " \n",
        "# 빈 문자열이 있는 튜플\n",
        "h = ('a', '', 2, 3)\n",
        "print(f\"all(('a', '', 2, 3)) : {all(h)}\")\n",
        " \n",
        "# 비어있는 튜플\n",
        "i = ()\n",
        "print(f\"all(()) : {all(i)}\")\n",
        "\n",
        "\n",
        "#출처: https://blockdmask.tistory.com/430 [개발자 지망생]"
      ],
      "execution_count": null,
      "outputs": [
        {
          "output_type": "stream",
          "text": [
            "all([1,2,3,4,5]) : True\n",
            "all([1,2,0,4,5]) : False\n",
            "all([]) : True\n",
            "all('BlockDMask') : True\n",
            "all('') : True\n",
            "all(('b', 3, 'a')) : True\n",
            "all(('b', 2, 0, 'd')) : False\n",
            "all(('a', '', 2, 3)) : False\n",
            "all(()) : True\n"
          ],
          "name": "stdout"
        }
      ]
    },
    {
      "cell_type": "code",
      "metadata": {
        "id": "sxFCeZlmAx-u"
      },
      "source": [
        "#matrix 표현\n",
        "res = [[0 for i in range(n)] for j in range(m)]"
      ],
      "execution_count": null,
      "outputs": []
    },
    {
      "cell_type": "code",
      "metadata": {
        "id": "rwn5xg0KGZZX"
      },
      "source": [
        "##PROB2\n",
        "#https://app.codesignal.com/arcade/intro/level-5/5xPitc3yT3dqS7XkP\n",
        "#행렬 표현, cnn같이 window이동해서 값 계산하기\n",
        "import math\n",
        "def boxBlur(image):\n",
        "    n = len(image[0])\n",
        "    m = len(image)\n",
        "    mat = [[0 for i in range(n-2)] for j in range(m-2)]\n",
        "    for i in range(m-2):\n",
        "        for j in range(n-2):\n",
        "            temp = 0\n",
        "            #temp  += sum(image[i][j:j+3])      #여기서 이렇게 하면 마지막에 index초과. range(1,n-1)로 둔 뒤 \n",
        "            #temp  += sum(image[i+1][j:j+3])\n",
        "            #temp  += sum(image[i+2][j:j+3])\n",
        "            temp  += image[i][j]+image[i][j+1]+image[i][j+2]   #sum([image[i+k][j+l] for k in [-1,0,1] for l in [-1,0,1]]) 이렇게 표현가능!\n",
        "            temp  += image[i+1][j]+image[i+1][j+1]+image[i+1][j+2]\n",
        "            temp  += image[i+2][j]+image[i+2][j+1]+image[i+2][j+2]\n",
        "            temp = math.floor(temp/9) # 그냥 temp//9 로 계산하는게 깔끔할듯\n",
        "            mat[i][j] = temp\n",
        "            \n",
        "    return mat\n",
        "  \n",
        "\n",
        "  ##SKILL\n",
        "  # range(n-2)\n",
        "        \n",
        "\n"
      ],
      "execution_count": null,
      "outputs": []
    },
    {
      "cell_type": "code",
      "metadata": {
        "id": "Q87Xm-9BQgcU"
      },
      "source": [
        "#PROB3\n",
        "#https://app.codesignal.com/arcade/intro/level-5/ZMR5n7vJbexnLrgaM/solutions\n",
        "#지뢰찾기\n",
        "def minesweeper(matrix):\n",
        "    N = len(matrix)\n",
        "    M = len(matrix[0])\n",
        "    mat = [[0 for i in range(M+2)] for j in range(N+2)] #zero padding\n",
        "    res = [[0 for i in range(M)] for j in range(N)]\n",
        "    for i in range(N):\n",
        "        for j in range(M):\n",
        "            mat[i+1][j+1] = matrix[i][j]  \n",
        "    for i in range(N):\n",
        "        for j in range(M):\n",
        "            res[i][j] = sum([mat[i+k+1][j+l+1] for k in [-1, 0, 1] for l in [-1, 0,1]])-mat[i+1][j+1]\n",
        "            \n",
        "    return res\n",
        "    \n",
        "    \n",
        "\n",
        "##다른 풀이\n",
        "def minesweeper(matrix):\n",
        "    N, M = len(matrix), len(matrix[0])\n",
        "    def neighbours(i, j):\n",
        "        return sum(matrix[ii][jj] for ii in range(i-1, i+2) if 0 <= ii < N\n",
        "                                  for jj in range(j-1, j+2) if 0 <= jj < M\n",
        "                                  if i != ii or j != jj)\n",
        "    return [[neighbours(i, j) for j in range(M)] for i in range(N)]"
      ],
      "execution_count": null,
      "outputs": []
    },
    {
      "cell_type": "code",
      "metadata": {
        "id": "kCv2Y8eZPC4k"
      },
      "source": [
        "#PROB4\n",
        "#https://www.acmicpc.net/problem/2920\n",
        "#음계\n",
        "lst = list(map(int, input().split(' ')))\n",
        "if sorted(lst) == lst:\n",
        "  print('ascending')\n",
        "elif sorted(lst, reverse=True) == lst:\n",
        "  print('descending')\n",
        "else:\n",
        "  print('mixed')\n",
        "  "
      ],
      "execution_count": null,
      "outputs": []
    },
    {
      "cell_type": "code",
      "metadata": {
        "colab": {
          "base_uri": "https://localhost:8080/"
        },
        "id": "U2u5lDEBT3j_",
        "outputId": "d70c79ac-298c-4afc-efa0-7726c601818f"
      },
      "source": [
        "#PROB5\n",
        "#https://www.acmicpc.net/problem/2798\n",
        "#블랙잭, 완전탐색, brute-force\n",
        "n, m = map(int, input().split(' '))\n",
        "lst = list(map(int, input().split(' ')))\n",
        "res = 0;\n",
        "for i in range(n-2):\n",
        "  for j in range(i+1, n-1):\n",
        "    for k in range(j+1, n):  \n",
        "      temp = lst[i]+lst[j]+lst[k]\n",
        "      if temp <= m and temp > res:\n",
        "        res = temp\n",
        "print(res)\n"
      ],
      "execution_count": null,
      "outputs": [
        {
          "output_type": "stream",
          "text": [
            "10 500\n",
            "93 181 245 214 315 36 185 138 216 295\n"
          ],
          "name": "stdout"
        },
        {
          "output_type": "execute_result",
          "data": {
            "text/plain": [
              "497"
            ]
          },
          "metadata": {
            "tags": []
          },
          "execution_count": 146
        }
      ]
    },
    {
      "cell_type": "code",
      "metadata": {
        "colab": {
          "base_uri": "https://localhost:8080/"
        },
        "id": "WIPQ9Tr7T4Hc",
        "outputId": "ee24c9a4-6208-43cf-bdd3-671ac2307679"
      },
      "source": [
        "#PROB6\n",
        "try:\n",
        "    lst = []\n",
        "    res = []\n",
        "    a = int(input())\n",
        "    cnt = 0\n",
        "    for i in range(a):\n",
        "      t = int(input())\n",
        "      if t in lst:\n",
        "          for j in range(len(lst)-lst.index(t)):\n",
        "              lst.pop()\n",
        "              res.append('-')\n",
        "      else:\n",
        "          for k in range(t-cnt):\n",
        "              cnt += 1 \n",
        "              lst.append(cnt)\n",
        "              res.append('+')\n",
        "          lst.pop()\n",
        "          res.append('-')\n",
        "    for elem in res:\n",
        "        print(elem)\n",
        "except:\n",
        "    print('NO')\n"
      ],
      "execution_count": null,
      "outputs": [
        {
          "output_type": "stream",
          "text": [
            "8\n",
            "4\n",
            "3\n",
            "6\n",
            "8\n",
            "7\n",
            "5\n",
            "2\n",
            "1\n",
            "+\n",
            "+\n",
            "+\n",
            "+\n",
            "-\n",
            "-\n",
            "+\n",
            "+\n",
            "-\n",
            "+\n",
            "+\n",
            "-\n",
            "-\n",
            "-\n",
            "-\n",
            "-\n"
          ],
          "name": "stdout"
        }
      ]
    },
    {
      "cell_type": "code",
      "metadata": {
        "id": "991RpVIDd_sy"
      },
      "source": [
        ""
      ],
      "execution_count": null,
      "outputs": []
    },
    {
      "cell_type": "markdown",
      "metadata": {
        "id": "nEUH7mhBQzP-"
      },
      "source": [
        "#0623"
      ]
    },
    {
      "cell_type": "code",
      "metadata": {
        "id": "AZSAPhD4ZP1l"
      },
      "source": [
        "#에러 생겼을 때 바로 \n",
        "exit(0)\n",
        "#으로 빠져나올 수 있다."
      ],
      "execution_count": null,
      "outputs": []
    },
    {
      "cell_type": "markdown",
      "metadata": {
        "id": "Rj91B0B0aY6a"
      },
      "source": [
        "string 사이에 문자 넣기"
      ]
    },
    {
      "cell_type": "code",
      "metadata": {
        "colab": {
          "base_uri": "https://localhost:8080/"
        },
        "id": "lkzP3SSJZWzU",
        "outputId": "2a2b26cd-e346-4ec2-dfa1-049e6cd48085"
      },
      "source": [
        "lst = ['a','b','c']\n",
        "print('\\n'.join(lst))"
      ],
      "execution_count": null,
      "outputs": [
        {
          "output_type": "stream",
          "text": [
            "a\n",
            "b\n",
            "c\n"
          ],
          "name": "stdout"
        }
      ]
    },
    {
      "cell_type": "code",
      "metadata": {
        "colab": {
          "base_uri": "https://localhost:8080/",
          "height": 35
        },
        "id": "lubOURQbZjEr",
        "outputId": "138f2971-8964-4fb1-8b44-96fffc27167b"
      },
      "source": [
        "'a'.join(lst)"
      ],
      "execution_count": null,
      "outputs": [
        {
          "output_type": "execute_result",
          "data": {
            "application/vnd.google.colaboratory.intrinsic+json": {
              "type": "string"
            },
            "text/plain": [
              "'aabac'"
            ]
          },
          "metadata": {
            "tags": []
          },
          "execution_count": 3
        }
      ]
    },
    {
      "cell_type": "code",
      "metadata": {
        "colab": {
          "base_uri": "https://localhost:8080/",
          "height": 35
        },
        "id": "jQXEne43aNds",
        "outputId": "13ab820c-5815-4938-f560-a153484e93d9"
      },
      "source": [
        "'k'.join(lst)"
      ],
      "execution_count": null,
      "outputs": [
        {
          "output_type": "execute_result",
          "data": {
            "application/vnd.google.colaboratory.intrinsic+json": {
              "type": "string"
            },
            "text/plain": [
              "'akbkc'"
            ]
          },
          "metadata": {
            "tags": []
          },
          "execution_count": 4
        }
      ]
    },
    {
      "cell_type": "code",
      "metadata": {
        "colab": {
          "base_uri": "https://localhost:8080/",
          "height": 35
        },
        "id": "oZph2GRMaQpL",
        "outputId": "15d8df91-973a-4f8b-ec99-c79fa0a9f0ff"
      },
      "source": [
        "' '.join(lst)"
      ],
      "execution_count": null,
      "outputs": [
        {
          "output_type": "execute_result",
          "data": {
            "application/vnd.google.colaboratory.intrinsic+json": {
              "type": "string"
            },
            "text/plain": [
              "'a b c'"
            ]
          },
          "metadata": {
            "tags": []
          },
          "execution_count": 6
        }
      ]
    },
    {
      "cell_type": "code",
      "metadata": {
        "colab": {
          "base_uri": "https://localhost:8080/"
        },
        "id": "d0X_pDaMeYMN",
        "outputId": "2b66bfae-25f2-4fdf-b98e-03e18250b1ed"
      },
      "source": [
        "#Queue\n",
        "#https://www.acmicpc.net/problem/1966\n",
        "a = int(input())\n",
        "\n",
        "for i in range(a):\n",
        "    lst = []\n",
        "    cnt = 0\n",
        "    b, c = map(int, input().split(' '))\n",
        "    lst.extend(list(map(int, input().split(' '))))\n",
        "    target = lst[c]\n",
        "    while lst[0] != max(lst) or c != 0:  #그냥 무한루프 돌리고 조건문 추가하는게 깔끔할듯\n",
        "        if lst[0] == max(lst):\n",
        "            lst = lst[1:]\n",
        "            cnt +=1\n",
        "            c -=1\n",
        "        else:\n",
        "            front = lst[0]\n",
        "            lst = lst[1:]\n",
        "            lst.append(front)\n",
        "            if c == 0:\n",
        "                c = len(lst)-1\n",
        "            else:\n",
        "                c -= 1\n",
        "    print(cnt +1)\n",
        "\n",
        "\n",
        "\n"
      ],
      "execution_count": null,
      "outputs": [
        {
          "output_type": "stream",
          "text": [
            "1\n",
            "4 1\n",
            "2 1 3 1\n",
            "[2, 1, 3, 1]\n",
            "3\n"
          ],
          "name": "stdout"
        }
      ]
    },
    {
      "cell_type": "code",
      "metadata": {
        "id": "9w2S8sg_jt5f",
        "colab": {
          "base_uri": "https://localhost:8080/"
        },
        "outputId": "2a67a7bc-f62a-4521-bd17-13e75cde967e"
      },
      "source": [
        "#키로거\n",
        "#https://www.acmicpc.net/problem/5397\n",
        "cnt = int(input())\n",
        "for i in range(cnt):\n",
        "  lst = input()\n",
        "  idx = 0\n",
        "  res = []\n",
        "  len = 0\n",
        "  for elem in lst:\n",
        "      if elem == '<':\n",
        "          idx = max(0, idx-1)\n",
        "      elif elem == '>':\n",
        "          if len > idx:\n",
        "              idx += 1\n",
        "      elif elem == '-':\n",
        "          if idx == 0:\n",
        "              continue\n",
        "          else:\n",
        "              res.pop(idx-1)\n",
        "              idx -= 1\n",
        "              len -= 1\n",
        "      else:\n",
        "          res.insert(idx, elem)\n",
        "          idx += 1\n",
        "          len += 1\n",
        "  print(''.join(res))\n",
        "\n"
      ],
      "execution_count": null,
      "outputs": [
        {
          "output_type": "stream",
          "text": [
            "2\n",
            "<<BP<A>>Cd-\n",
            "BAPC\n",
            "ThIsIsS3Cr3t\n",
            "ThIsIsS3Cr3t\n"
          ],
          "name": "stdout"
        }
      ]
    },
    {
      "cell_type": "code",
      "metadata": {
        "colab": {
          "base_uri": "https://localhost:8080/"
        },
        "id": "84vncDJSH9Rp",
        "outputId": "4cc42be5-5ece-4881-df1a-53ec3243ba62"
      },
      "source": [
        "#키로거\n",
        "#https://www.acmicpc.net/problem/5397\n",
        "cnt = int(input())\n",
        "for i in range(cnt):\n",
        "  lst = input()\n",
        "  left = []\n",
        "  right = []\n",
        "  for elem in lst:\n",
        "      if elem == '<':\n",
        "          if len(left) == 0:  #그냥 left로 해서 bool 이용할 수 있음.\n",
        "            continue\n",
        "          else:\n",
        "            right.append(left.pop())\n",
        "      elif elem == '>':\n",
        "          if len(right) == 0:\n",
        "            continue\n",
        "          else:\n",
        "            left.append(right.pop())\n",
        "      elif elem == '-':\n",
        "          if len(left) == 0:\n",
        "              continue\n",
        "          else:\n",
        "              left.pop()\n",
        "      else:\n",
        "          left.append(elem)\n",
        "  right = list(reversed(right))\n",
        "  left.extend(right)\n",
        "  print(''.join(left))\n",
        "\n"
      ],
      "execution_count": null,
      "outputs": [
        {
          "output_type": "stream",
          "text": [
            "1\n",
            "j><>-<u->xb<<a\n",
            "axb\n"
          ],
          "name": "stdout"
        }
      ]
    },
    {
      "cell_type": "code",
      "metadata": {
        "colab": {
          "base_uri": "https://localhost:8080/"
        },
        "id": "sgiH4CQGK3hq",
        "outputId": "abd73171-e0a8-4645-dd69-0f96c4f168e9"
      },
      "source": [
        "lst = [1,2,3]\n",
        "right = []\n",
        "right.append(lst.pop())\n",
        "print(lst)\n",
        "right"
      ],
      "execution_count": null,
      "outputs": [
        {
          "output_type": "stream",
          "text": [
            "[1, 2]\n"
          ],
          "name": "stdout"
        },
        {
          "output_type": "execute_result",
          "data": {
            "text/plain": [
              "[3]"
            ]
          },
          "metadata": {
            "tags": []
          },
          "execution_count": 24
        }
      ]
    },
    {
      "cell_type": "code",
      "metadata": {
        "id": "SBFW7UynK41-"
      },
      "source": [
        "printlst.extend(right)"
      ],
      "execution_count": null,
      "outputs": []
    },
    {
      "cell_type": "code",
      "metadata": {
        "colab": {
          "base_uri": "https://localhost:8080/",
          "height": 35
        },
        "id": "vQABdzv3MPt7",
        "outputId": "906359ff-9379-4f2c-ab99-7a6684b24c17"
      },
      "source": [
        "lst"
      ],
      "execution_count": null,
      "outputs": [
        {
          "output_type": "execute_result",
          "data": {
            "application/vnd.google.colaboratory.intrinsic+json": {
              "type": "string"
            },
            "text/plain": [
              "'j><>-<u->xb<<a'"
            ]
          },
          "metadata": {
            "tags": []
          },
          "execution_count": 29
        }
      ]
    },
    {
      "cell_type": "code",
      "metadata": {
        "id": "_SM5fJJNMQXb"
      },
      "source": [
        "lst = [1,2,3]"
      ],
      "execution_count": null,
      "outputs": []
    },
    {
      "cell_type": "code",
      "metadata": {
        "id": "kTkxrB4eMw0E"
      },
      "source": [
        "lst = list(reversed(lst))"
      ],
      "execution_count": null,
      "outputs": []
    },
    {
      "cell_type": "code",
      "metadata": {
        "colab": {
          "base_uri": "https://localhost:8080/"
        },
        "id": "sykf17CIMx4s",
        "outputId": "f79de909-b98e-4a35-8acf-b487af82e058"
      },
      "source": [
        "lst"
      ],
      "execution_count": null,
      "outputs": [
        {
          "output_type": "execute_result",
          "data": {
            "text/plain": [
              "[3, 2, 1]"
            ]
          },
          "metadata": {
            "tags": []
          },
          "execution_count": 37
        }
      ]
    },
    {
      "cell_type": "code",
      "metadata": {
        "colab": {
          "base_uri": "https://localhost:8080/"
        },
        "id": "AZ0yR5kxMyML",
        "outputId": "b1ad5011-da75-46b0-de28-1040f7960511"
      },
      "source": [
        "#수 정렬\n",
        "#https://www.acmicpc.net/problem/2750\n",
        "a = int(input())\n",
        "lst = []\n",
        "for i in range(a):\n",
        "  b = int(input())\n",
        "  lst.append(b)\n",
        "lst.sort()\n",
        "for elem in lst:\n",
        "  print(elem)"
      ],
      "execution_count": null,
      "outputs": [
        {
          "output_type": "stream",
          "text": [
            "5\n",
            "5\n",
            "2\n",
            "3\n",
            "4\n",
            "1\n",
            "1\n",
            "2\n",
            "3\n",
            "4\n",
            "5\n"
          ],
          "name": "stdout"
        }
      ]
    },
    {
      "cell_type": "code",
      "metadata": {
        "id": "_Y_aN7ZRNTU7",
        "colab": {
          "base_uri": "https://localhost:8080/"
        },
        "outputId": "7febe7db-fc7c-4cd4-e4f5-c056b7ddd4dd"
      },
      "source": [
        "#해시\n",
        "#https://www.acmicpc.net/problem/10930\n",
        "import hashlib\n",
        "input_data = input()\n",
        "encoded_data = input_data.encode()\n",
        "result = hashlib.sha256(encoded_data).hexdigest()\n",
        "print(result)"
      ],
      "execution_count": null,
      "outputs": [
        {
          "output_type": "stream",
          "text": [
            "as\n",
            "f4bf9f7fcbedaba0392f108c59d8f4a38b3838efb64877380171b54475c2ade8\n"
          ],
          "name": "stdout"
        }
      ]
    },
    {
      "cell_type": "code",
      "metadata": {
        "colab": {
          "base_uri": "https://localhost:8080/"
        },
        "id": "bYPnsrJbehea",
        "outputId": "6483691e-5a45-40be-d035-06f5e9302b96"
      },
      "source": [
        "#수 찾기\n",
        "#https://www.acmicpc.net/problem/1920\n",
        "a = int(input())\n",
        "lst = list(map(int, input().split(' '))) #들어있는지 더 빠르게 확인 하려면 set으로 해도 됨\n",
        "b = int(input())\n",
        "check = list(map(int, input().split(' ')))\n",
        "for i in check:\n",
        "    if i in lst:\n",
        "        print('1')\n",
        "    else:\n",
        "        print('0')"
      ],
      "execution_count": null,
      "outputs": [
        {
          "output_type": "stream",
          "text": [
            "5\n",
            "4 1 5 2 3\n",
            "5\n",
            "1 3 7 9 5\n",
            "1\n",
            "1\n",
            "0\n",
            "0\n",
            "1\n"
          ],
          "name": "stdout"
        }
      ]
    },
    {
      "cell_type": "code",
      "metadata": {
        "colab": {
          "base_uri": "https://localhost:8080/"
        },
        "id": "GQAR5LQDearM",
        "outputId": "0d0c217f-556b-43e9-d5d8-3d6ba2d5eab9"
      },
      "source": [
        "#친구 네트워크\n",
        "#https://www.acmicpc.net/problem/4195\n",
        "#내 풀이\n",
        "num = int(input())\n",
        "for i in range(num):\n",
        "    rel = int(input())\n",
        "    fr = {}\n",
        "    friends = set()\n",
        "    for j in range(rel):\n",
        "        f1, f2 = list(map(str, input().split(' ')))\n",
        "        keys = list(fr.keys())\n",
        "        if f1 not in keys:\n",
        "            fr[f1] = set([f2])\n",
        "        else:\n",
        "            fr[f1].update([f2])\n",
        "        if f2 not in keys:\n",
        "            fr[f2] = set([f1])\n",
        "        else:\n",
        "            fr[f2].update([f1])\n",
        "        temp = (fr[f1]) | (fr[f2])\n",
        "        if not friends:\n",
        "            friends.update([f1], [f2])\n",
        "        if friends & temp:\n",
        "            friends = friends | temp\n",
        "\n",
        "    \n",
        "    \n",
        "\n",
        "\n",
        "\n"
      ],
      "execution_count": null,
      "outputs": [
        {
          "output_type": "stream",
          "text": [
            "2\n",
            "3\n",
            "Fred Barney\n",
            "f1:  Fred\n",
            "f2:  Barney\n",
            "{'Fred': {'Barney'}, 'Barney': {'Fred'}}\n",
            "{'Fred', 'Barney'}\n",
            "2\n",
            "Barney Betty\n",
            "f1:  Barney\n",
            "f2:  Betty\n",
            "{'Fred': {'Barney'}, 'Barney': {'Fred', 'Betty'}, 'Betty': {'Barney'}}\n",
            "{'Fred', 'Betty', 'Barney'}\n",
            "3\n",
            "Betty Wilma\n",
            "f1:  Betty\n",
            "f2:  Wilma\n",
            "{'Fred': {'Barney'}, 'Barney': {'Fred', 'Betty'}, 'Betty': {'Barney', 'Wilma'}, 'Wilma': {'Betty'}}\n",
            "{'Fred', 'Betty', 'Barney', 'Wilma'}\n",
            "4\n",
            "3\n",
            "Fred Barney\n",
            "f1:  Fred\n",
            "f2:  Barney\n",
            "{'Fred': {'Barney'}, 'Barney': {'Fred'}}\n",
            "{'Fred', 'Barney'}\n",
            "2\n",
            "Betty Wilma\n",
            "f1:  Betty\n",
            "f2:  Wilma\n",
            "{'Fred': {'Barney'}, 'Barney': {'Fred'}, 'Betty': {'Wilma'}, 'Wilma': {'Betty'}}\n",
            "{'Fred', 'Barney'}\n",
            "2\n",
            "Barney Betty\n",
            "f1:  Barney\n",
            "f2:  Betty\n",
            "{'Fred': {'Barney'}, 'Barney': {'Fred', 'Betty'}, 'Betty': {'Barney', 'Wilma'}, 'Wilma': {'Betty'}}\n",
            "{'Fred', 'Betty', 'Barney', 'Wilma'}\n",
            "4\n"
          ],
          "name": "stdout"
        }
      ]
    },
    {
      "cell_type": "code",
      "metadata": {
        "colab": {
          "base_uri": "https://localhost:8080/"
        },
        "id": "pNBCxHN7lhYp",
        "outputId": "ac596958-1333-4bfa-fa41-ea3200e832be"
      },
      "source": [
        "#시간초과\n",
        "def find(x):\n",
        "    if x == parent[dic[x]]:\n",
        "        return x\n",
        "    else:\n",
        "        p = find(parent[dic[x]])\n",
        "        parent[dic[x]] = p\n",
        "        return parent[dic[x]]\n",
        "\n",
        "def union(x, y):\n",
        "    x = find(x)\n",
        "    y = find(y)\n",
        "    temp = parent[dic[y]]\n",
        "    while parent.count(temp):\n",
        "        parent[parent.index(temp)] = x\n",
        "\n",
        "    \n",
        "\n",
        "num = int(input())\n",
        "\n",
        "for i in range(num):\n",
        "    rel = int(input())\n",
        "    parent = []\n",
        "    dic = {}\n",
        "    cnt = 0\n",
        "    for j in range(rel):\n",
        "        f1, f2 = list(map(str, input().split(' ')))\n",
        "        if f1 not in list(dic.keys()):\n",
        "            parent.append(f1)\n",
        "            dic[f1] = cnt\n",
        "            cnt +=1\n",
        "        if f2 not in list(dic.keys()):\n",
        "            parent.append(f2)\n",
        "            dic[f2] = cnt\n",
        "            cnt +=1\n",
        "        union(f1, f2)\n",
        "        print(parent.count(max(parent, key = parent.count))) #빈도수 기준으로 최대인 것을 뽑아내는 아이디어. max함수에서 key값을 활용한다.\n"
      ],
      "execution_count": null,
      "outputs": [
        {
          "output_type": "stream",
          "text": [
            "1\n",
            "3\n",
            "Fred Barney\n",
            "befor:  ['Fred', 'Barney']\n",
            "after:  ['Fred', 'Fred']\n",
            "2\n",
            "Betty Wilma\n",
            "befor:  ['Fred', 'Fred', 'Betty', 'Wilma']\n",
            "after:  ['Fred', 'Fred', 'Betty', 'Betty']\n",
            "2\n",
            "Barney Betty\n",
            "befor:  ['Fred', 'Fred', 'Betty', 'Betty']\n",
            "after:  ['Fred', 'Fred', 'Fred', 'Fred']\n",
            "4\n"
          ],
          "name": "stdout"
        }
      ]
    },
    {
      "cell_type": "code",
      "metadata": {
        "colab": {
          "base_uri": "https://localhost:8080/"
        },
        "id": "1AvaK8zoUOWW",
        "outputId": "739d9e17-5e7a-4037-d3c7-d222472eef9f"
      },
      "source": [
        "#dictionary 2개를 활용\n",
        "#특히 number를 활용한 아이디어가 좋았다.\n",
        "\n",
        "def find(x):\n",
        "    if x == parent[x]:\n",
        "        return x\n",
        "    else:\n",
        "        p = find(parent[x])\n",
        "        parent[x] = p\n",
        "        return parent[x]\n",
        "\n",
        "def union(x, y):\n",
        "    x = find(x)\n",
        "    y = find(y)\n",
        "    if x != y:\n",
        "        parent[y] = x\n",
        "        number[x] += number[y]\n",
        "    \n",
        "\n",
        "num = int(input())\n",
        "\n",
        "for i in range(num):\n",
        "    rel = int(input())\n",
        "    parent = {}\n",
        "    number = {}\n",
        "    for j in range(rel):\n",
        "        f1, f2 = input().split(' ')\n",
        "        if f1 not in parent:\n",
        "            parent[f1] = f1 \n",
        "            number[f1] = 1\n",
        "        if f2 not in parent:\n",
        "            parent[f2] = f2 \n",
        "            number[f2] = 1\n",
        "        union(f1, f2)\n",
        "        print(number[find(f1)])\n"
      ],
      "execution_count": null,
      "outputs": [
        {
          "output_type": "stream",
          "text": [
            "2\n",
            "3\n",
            "Fred Barney\n",
            "2\n",
            "Barney Betty\n",
            "3\n",
            "Betty Wilma\n",
            "4\n",
            "3\n",
            "Fred Barney\n",
            "2\n",
            "Betty Wilma\n",
            "2\n",
            "Barney Betty\n",
            "4\n"
          ],
          "name": "stdout"
        }
      ]
    },
    {
      "cell_type": "code",
      "metadata": {
        "id": "Aes19lXgdZUh"
      },
      "source": [
        "Fred Barney\n"
      ],
      "execution_count": null,
      "outputs": []
    },
    {
      "cell_type": "markdown",
      "metadata": {
        "id": "Er8U-_YddvBF"
      },
      "source": [
        "#0625"
      ]
    },
    {
      "cell_type": "code",
      "metadata": {
        "id": "S3s33fgQdsaW",
        "colab": {
          "base_uri": "https://localhost:8080/"
        },
        "outputId": "591fbdb8-5cb6-47f3-d43b-0592d1211ee6"
      },
      "source": [
        "#수 정렬\n",
        "#https://www.acmicpc.net/problem/2750\n",
        "a = int(input())\n",
        "lst = []\n",
        "for i in range(a):\n",
        "  b = int(input())\n",
        "  lst.append(b)\n",
        "lst.sort()\n",
        "for i in range(a):\n",
        "  print(lst[i])\n"
      ],
      "execution_count": null,
      "outputs": [
        {
          "output_type": "stream",
          "text": [
            "5\n",
            "5\n",
            "2\n",
            "3\n",
            "4\n",
            "1\n",
            "1\n",
            "2\n",
            "3\n",
            "4\n",
            "5\n"
          ],
          "name": "stdout"
        }
      ]
    },
    {
      "cell_type": "code",
      "metadata": {
        "colab": {
          "base_uri": "https://localhost:8080/"
        },
        "id": "ry2TyAAGhDFp",
        "outputId": "bdd23425-d067-4300-afd9-ff588915386d"
      },
      "source": [
        "#내림차순 정렬\n",
        "#https://www.acmicpc.net/problem/1427\n",
        "a = list(map(int, input()))\n",
        "a.sort(reverse = True)\n",
        "for i in range(len(a)):\n",
        "  print(a[i], end ='')\n"
      ],
      "execution_count": null,
      "outputs": [
        {
          "output_type": "stream",
          "text": [
            "2143\n",
            "4321"
          ],
          "name": "stdout"
        }
      ]
    },
    {
      "cell_type": "code",
      "metadata": {
        "colab": {
          "base_uri": "https://localhost:8080/"
        },
        "id": "rNxED6XtfITT",
        "outputId": "45d50452-f749-4a9f-db40-25c65d0f26b2"
      },
      "source": [
        "len(a)"
      ],
      "execution_count": null,
      "outputs": [
        {
          "output_type": "execute_result",
          "data": {
            "text/plain": [
              "4"
            ]
          },
          "metadata": {
            "tags": []
          },
          "execution_count": 10
        }
      ]
    },
    {
      "cell_type": "code",
      "metadata": {
        "id": "TrEuu-gjhbhR"
      },
      "source": [
        "a = [1,2,3]"
      ],
      "execution_count": null,
      "outputs": []
    },
    {
      "cell_type": "code",
      "metadata": {
        "id": "kOtgMpaqwmPl"
      },
      "source": [
        "b = ['1', '2', '3']"
      ],
      "execution_count": null,
      "outputs": []
    },
    {
      "cell_type": "code",
      "metadata": {
        "colab": {
          "base_uri": "https://localhost:8080/",
          "height": 35
        },
        "id": "AnRg-taYwo4k",
        "outputId": "9a89bde3-4fa1-4b8c-f9c8-a3f05bef2e16"
      },
      "source": [
        "''.join(b)"
      ],
      "execution_count": null,
      "outputs": [
        {
          "output_type": "execute_result",
          "data": {
            "application/vnd.google.colaboratory.intrinsic+json": {
              "type": "string"
            },
            "text/plain": [
              "'123'"
            ]
          },
          "metadata": {
            "tags": []
          },
          "execution_count": 4
        }
      ]
    },
    {
      "cell_type": "markdown",
      "metadata": {
        "id": "dLrtJ1zAwwrO"
      },
      "source": [
        "#0626"
      ]
    },
    {
      "cell_type": "code",
      "metadata": {
        "id": "CtMgzOMQwsK5"
      },
      "source": [
        "dic = {}"
      ],
      "execution_count": null,
      "outputs": []
    },
    {
      "cell_type": "code",
      "metadata": {
        "id": "mk8sj-3exK3M"
      },
      "source": [
        "for i in range(10):\n",
        "  dic[i] = 0"
      ],
      "execution_count": null,
      "outputs": []
    },
    {
      "cell_type": "code",
      "metadata": {
        "colab": {
          "base_uri": "https://localhost:8080/"
        },
        "id": "WZTsCtoJxyWL",
        "outputId": "9bc23383-bb16-488d-8d26-cb935e5bde11"
      },
      "source": [
        "dic"
      ],
      "execution_count": null,
      "outputs": [
        {
          "output_type": "execute_result",
          "data": {
            "text/plain": [
              "{0: 0, 1: 0, 2: 0, 3: 0, 4: 0, 5: 0, 6: 0, 7: 0, 8: 0, 9: 0}"
            ]
          },
          "metadata": {
            "tags": []
          },
          "execution_count": 16
        }
      ]
    },
    {
      "cell_type": "code",
      "metadata": {
        "id": "IYXmoah_x7AI"
      },
      "source": [
        "for i in rang"
      ],
      "execution_count": null,
      "outputs": []
    },
    {
      "cell_type": "code",
      "metadata": {
        "colab": {
          "base_uri": "https://localhost:8080/"
        },
        "id": "21HuTKLLi9-G",
        "outputId": "4fb934d7-ea70-474c-d920-ec5fa059dfd9"
      },
      "source": [
        "#나이 순 정렬\n",
        "#https://www.acmicpc.net/problem/10814\n",
        "num = int(input())\n",
        "dic = {}\n",
        "for i in range(num):\n",
        "    age, name = input().split(' ')\n",
        "    age = int(age)\n",
        "    if age in list(dic.keys()):\n",
        "        dic[age].append(name)\n",
        "    else:\n",
        "        dic[age] = [name]\n",
        "\n",
        "dic = dict(sorted(dic.items(), key=lambda item: item[0]))\n",
        "\n",
        "for key, value in dic.items():\n",
        "  for elem in value:\n",
        "    print(key, elem)"
      ],
      "execution_count": null,
      "outputs": [
        {
          "output_type": "stream",
          "text": [
            "5\n",
            "1 a\n",
            "2 b\n",
            "1 c\n",
            "2 e\n",
            "2 f\n",
            "1 a\n",
            "1 c\n",
            "2 b\n",
            "2 e\n",
            "2 f\n"
          ],
          "name": "stdout"
        }
      ]
    },
    {
      "cell_type": "code",
      "metadata": {
        "colab": {
          "base_uri": "https://localhost:8080/"
        },
        "id": "rdobbwa_negK",
        "outputId": "61c63e1b-2dfb-46aa-e0af-92a435747051"
      },
      "source": [
        "#좌표 정렬\n",
        "#https://www.acmicpc.net/problem/11650\n",
        "\n",
        "num = int(input())\n",
        "lst = []\n",
        "for i in range(num):\n",
        "  x, y = list(map(int, input().split(' ')))\n",
        "  lst.append((x,y))\n",
        "lst.sort(key = lambda x: x[1]) # 기본 정렬 알고리즘 해도 결과는 동일\n",
        "lst.sort(key = lambda x: x[0])\n",
        "for j in range(num):\n",
        "  print(lst[j][0], lst[j][1])\n",
        "  \n"
      ],
      "execution_count": null,
      "outputs": [
        {
          "output_type": "stream",
          "text": [
            "5\n",
            "3 4\n",
            "1 1\n",
            "1 -1\n",
            "2 2\n",
            "3 3\n",
            "1 -1\n",
            "1 1\n",
            "2 2\n",
            "3 3\n",
            "3 4\n"
          ],
          "name": "stdout"
        }
      ]
    },
    {
      "cell_type": "code",
      "metadata": {
        "colab": {
          "base_uri": "https://localhost:8080/",
          "height": 232
        },
        "id": "SOe1vtKgp_ZA",
        "outputId": "0915cdfd-d471-496e-f918-d0a5096ce004"
      },
      "source": [
        "#수 정렬하기 3\n",
        "#https://www.acmicpc.net/problem/10989\n",
        "#데이터의 범위가 작고 개수가 많은 경우 계수 정렬 알고리즘을 이용! (인덱스를 늘리는 방법)\n",
        "#유의사항: 데이터의 개수가 많을 때 파이썬에서는 sys.stdin.readline() 함수를 사용\n",
        "import sys\n",
        "\n",
        "n = int(sys.stdin.readline())\n",
        "lst = [0]*10001\n",
        "for i in range(n):\n",
        "  t = int(sys.stdin.readline())\n",
        "  lst[t] += 1\n",
        "for j in range(10001):\n",
        "  if lst[j] != 0:\n",
        "    for k in range(lst[j]):\n",
        "      print(j)\n"
      ],
      "execution_count": null,
      "outputs": [
        {
          "output_type": "error",
          "ename": "ValueError",
          "evalue": "ignored",
          "traceback": [
            "\u001b[0;31m---------------------------------------------------------------------------\u001b[0m",
            "\u001b[0;31mValueError\u001b[0m                                Traceback (most recent call last)",
            "\u001b[0;32m<ipython-input-1-e77281673e34>\u001b[0m in \u001b[0;36m<module>\u001b[0;34m()\u001b[0m\n\u001b[1;32m      5\u001b[0m \u001b[0;32mimport\u001b[0m \u001b[0msys\u001b[0m\u001b[0;34m\u001b[0m\u001b[0;34m\u001b[0m\u001b[0m\n\u001b[1;32m      6\u001b[0m \u001b[0;34m\u001b[0m\u001b[0m\n\u001b[0;32m----> 7\u001b[0;31m \u001b[0mn\u001b[0m \u001b[0;34m=\u001b[0m \u001b[0mint\u001b[0m\u001b[0;34m(\u001b[0m\u001b[0msys\u001b[0m\u001b[0;34m.\u001b[0m\u001b[0mstdin\u001b[0m\u001b[0;34m.\u001b[0m\u001b[0mreadline\u001b[0m\u001b[0;34m(\u001b[0m\u001b[0;34m)\u001b[0m\u001b[0;34m)\u001b[0m\u001b[0;34m\u001b[0m\u001b[0;34m\u001b[0m\u001b[0m\n\u001b[0m\u001b[1;32m      8\u001b[0m \u001b[0mlst\u001b[0m \u001b[0;34m=\u001b[0m \u001b[0;34m[\u001b[0m\u001b[0;36m0\u001b[0m\u001b[0;34m]\u001b[0m\u001b[0;34m*\u001b[0m\u001b[0;36m10001\u001b[0m\u001b[0;34m\u001b[0m\u001b[0;34m\u001b[0m\u001b[0m\n\u001b[1;32m      9\u001b[0m \u001b[0;32mfor\u001b[0m \u001b[0mi\u001b[0m \u001b[0;32min\u001b[0m \u001b[0mrange\u001b[0m\u001b[0;34m(\u001b[0m\u001b[0mn\u001b[0m\u001b[0;34m)\u001b[0m\u001b[0;34m:\u001b[0m\u001b[0;34m\u001b[0m\u001b[0;34m\u001b[0m\u001b[0m\n",
            "\u001b[0;31mValueError\u001b[0m: invalid literal for int() with base 10: ''"
          ]
        }
      ]
    },
    {
      "cell_type": "code",
      "metadata": {
        "colab": {
          "base_uri": "https://localhost:8080/",
          "height": 130
        },
        "id": "NAry08WMrPO_",
        "outputId": "9fff7303-1937-456d-eea9-a6f9a84612cc"
      },
      "source": [
        "#피보나치\n",
        "#https://www.acmicpc.net/problem/2747\n",
        "#재귀함수의 한계\n",
        "#시간초과 오답 예시\n",
        "def fibo(x):\n",
        "  if x == 0:\n",
        "    return 0\n",
        "  elif x == 1:\n",
        "    return 1\n",
        "  else:\n",
        "    return fibo(x-1) + fibo(x-2)\n",
        "\n",
        "\n",
        "num = int(input())\n",
        "print(fibo(num))"
      ],
      "execution_count": null,
      "outputs": [
        {
          "output_type": "error",
          "ename": "SyntaxError",
          "evalue": "ignored",
          "traceback": [
            "\u001b[0;36m  File \u001b[0;32m\"<ipython-input-7-136a71d70a18>\"\u001b[0;36m, line \u001b[0;32m5\u001b[0m\n\u001b[0;31m    fibo(0) = 0\u001b[0m\n\u001b[0m    ^\u001b[0m\n\u001b[0;31mSyntaxError\u001b[0m\u001b[0;31m:\u001b[0m can't assign to function call\n"
          ]
        }
      ]
    },
    {
      "cell_type": "code",
      "metadata": {
        "colab": {
          "base_uri": "https://localhost:8080/"
        },
        "id": "6UmjP8rIq9Tt",
        "outputId": "96d2da5d-10fb-4cc1-8abd-92a48c50da33"
      },
      "source": [
        "#따라서 반복문으로 해결\n",
        "num = int(input())\n",
        "a, b = 0, 1\n",
        "while num > 0:\n",
        "    a, b = b, a+b\n",
        "    num -= 1\n",
        "print(a)\n"
      ],
      "execution_count": null,
      "outputs": [
        {
          "output_type": "stream",
          "text": [
            "10\n",
            "55\n"
          ],
          "name": "stdout"
        }
      ]
    },
    {
      "cell_type": "code",
      "metadata": {
        "colab": {
          "base_uri": "https://localhost:8080/"
        },
        "id": "-vuSVAZrpVPd",
        "outputId": "8794357a-646a-4d93-b744-b5887dafef1d"
      },
      "source": [
        "#Z\n",
        "#https://www.acmicpc.net/problem/1074\n",
        "\n",
        "def z(n,x,y):\n",
        "    if n ==1:\n",
        "      if x == 0 and y == 0:\n",
        "        return 0\n",
        "      elif x == 0 and y == 1:\n",
        "        return 1\n",
        "      elif x == 1 and y == 0:\n",
        "        return 2\n",
        "      else: \n",
        "        return 3\n",
        "    if x > 2**(n-1)-1 and y > 2**(n-1)-1:\n",
        "        return 3*2**(2*n-2) + z(n-1, x-2**(n-1), y-2**(n-1))\n",
        "    elif x > 2**(n-1)-1 and y <= 2**(n-1)-1:\n",
        "        return 2*2**(2*n-2)+ z(n-1, x-2**(n-1), y)\n",
        "    elif x <= 2**(n-1)-1 and y > 2**(n-1)-1:\n",
        "        return 2**(2*n-2) + z(n-1, x, y-2**(n-1))\n",
        "    else:\n",
        "        return z(n-1, x, y)\n",
        "\n",
        "n, r, c = list(map(int, input().split(' ')))\n",
        "res = z(n, r, c)\n",
        "print(res)\n",
        "\n",
        "\n"
      ],
      "execution_count": null,
      "outputs": [
        {
          "output_type": "stream",
          "text": [
            "3 7 7\n",
            "63\n"
          ],
          "name": "stdout"
        }
      ]
    },
    {
      "cell_type": "code",
      "metadata": {
        "id": "EPtGZI_myeU-"
      },
      "source": [
        "#0 만들기\n",
        "#https://www.acmicpc.net/problem/7490\n",
        "#파이썬 eval()함수를 통해 문자열 형태의 표현식을 계산 가능. \n",
        "    "
      ],
      "execution_count": null,
      "outputs": []
    },
    {
      "cell_type": "code",
      "metadata": {
        "colab": {
          "base_uri": "https://localhost:8080/"
        },
        "id": "9VzZFU9tGnnW",
        "outputId": "522e5246-1f3f-4983-a473-512bbae8d55d"
      },
      "source": [
        "eval('2+3')"
      ],
      "execution_count": null,
      "outputs": [
        {
          "output_type": "execute_result",
          "data": {
            "text/plain": [
              "5"
            ]
          },
          "metadata": {
            "tags": []
          },
          "execution_count": 32
        }
      ]
    },
    {
      "cell_type": "code",
      "metadata": {
        "colab": {
          "base_uri": "https://localhost:8080/"
        },
        "id": "_99jpFn0Goio",
        "outputId": "bfa03251-7b04-4a0c-aade-06b43819693b"
      },
      "source": [
        "import copy\n",
        "def operator(arr, n):\n",
        "  if len(arr) == n:\n",
        "    oper_lst.append(copy.deepcopy(arr))\n",
        "  else:\n",
        "    arr.append(' ')\n",
        "    operator(arr, n)\n",
        "    arr.pop()\n",
        "\n",
        "    arr.append('+')\n",
        "    operator(arr, n)\n",
        "    arr.pop()\n",
        "\n",
        "    arr.append('-')\n",
        "    operator(arr, n)\n",
        "    arr.pop()\n",
        "\n",
        "num = int(input())\n",
        "for i in range(num):\n",
        "    arr = []\n",
        "    oper_lst = []\n",
        "    num_lst = []\n",
        "    last = int(input())\n",
        "    operator(arr, last-1)\n",
        "\n",
        "    for j in range(1, last+1): #num_lst = [i for i in range(1, last+1)] 이렇게 간편하게 줄일 수 있음\n",
        "      num_lst.append(j)\n",
        "\n",
        "    for elem in oper_lst:\n",
        "      calc = str(num_lst[0])\n",
        "      for k in range(last-1):\n",
        "        calc = calc +elem[k]+str(num_lst[k+1])\n",
        "      if eval(calc.replace(' ', '')) == 0: \n",
        "        print(calc)\n",
        "    print()"
      ],
      "execution_count": null,
      "outputs": [
        {
          "output_type": "stream",
          "text": [
            "2\n",
            "3\n",
            "1+2-3\n",
            "\n",
            "7\n",
            "1+2-3+4-5-6+7\n",
            "1+2-3-4+5+6-7\n",
            "1-2 3+4+5+6+7\n",
            "1-2 3-4 5+6 7\n",
            "1-2+3+4-5+6-7\n",
            "1-2-3-4-5+6+7\n",
            "\n"
          ],
          "name": "stdout"
        }
      ]
    },
    {
      "cell_type": "code",
      "metadata": {
        "colab": {
          "base_uri": "https://localhost:8080/"
        },
        "id": "3IDA1ISuLR6b",
        "outputId": "c3e464fe-ee23-4a1d-9f94-80ed9457f82f"
      },
      "source": [
        "#K번째 수\n",
        "#https://www.acmicpc.net/problem/11004\n",
        "num, k  = map(int, input().split(' '))\n",
        "num_lst = list(map(int, input().split(' ')))\n",
        "num_lst.sort()\n",
        "print(num_lst[k-1])\n",
        "\n"
      ],
      "execution_count": null,
      "outputs": [
        {
          "output_type": "stream",
          "text": [
            "5 2\n",
            "4 1 2 3 5\n",
            "2\n"
          ],
          "name": "stdout"
        }
      ]
    },
    {
      "cell_type": "code",
      "metadata": {
        "id": "tu1LKS6UbTpj",
        "colab": {
          "base_uri": "https://localhost:8080/"
        },
        "outputId": "9cbe3f8e-d4da-4ee8-8383-b9c1f9719e46"
      },
      "source": [
        "#문서 검색\n",
        "#https://www.acmicpc.net/problem/1543\n",
        "lst = input()\n",
        "search = input()\n",
        "cnt = 0\n",
        "\n",
        "while 1:\n",
        "  if search in lst:\n",
        "    cnt += 1\n",
        "    temp = lst.index(search)+len(search)\n",
        "    lst = lst[temp:]\n",
        "  else:\n",
        "    break\n",
        "\n",
        "print(cnt)\n"
      ],
      "execution_count": 87,
      "outputs": [
        {
          "output_type": "stream",
          "text": [
            "a a a a a\n",
            "a a\n",
            "2\n"
          ],
          "name": "stdout"
        }
      ]
    },
    {
      "cell_type": "code",
      "metadata": {
        "colab": {
          "base_uri": "https://localhost:8080/"
        },
        "id": "z-dTE2XqdLG8",
        "outputId": "3f74af8e-7680-482e-aba0-d4cf407ce7b4"
      },
      "source": [
        "#새\n",
        "#https://www.acmicpc.net/problem/1568\n",
        "num = int(input())\n",
        "cnt = 0\n",
        "temp = 1\n",
        "while num > 0:\n",
        "  if num-temp >= 0:\n",
        "    num = num - temp\n",
        "    temp += 1\n",
        "    cnt += 1\n",
        "  else:\n",
        "    temp = 1\n",
        "print(cnt)\n",
        "\n",
        "\n",
        "  "
      ],
      "execution_count": 89,
      "outputs": [
        {
          "output_type": "stream",
          "text": [
            "14\n",
            "7\n"
          ],
          "name": "stdout"
        }
      ]
    },
    {
      "cell_type": "code",
      "metadata": {
        "colab": {
          "base_uri": "https://localhost:8080/"
        },
        "id": "HbkmQwMyuy0o",
        "outputId": "6c51e46a-ac9b-4c78-b09a-c38eaafddff6"
      },
      "source": [
        "#베스트셀러\n",
        "#https://www.acmicpc.net/problem/1302\n",
        "num = int(input())\n",
        "dic = {}\n",
        "for i in range(num):\n",
        "  book = input()\n",
        "  if book in dic:\n",
        "    dic[book] += 1\n",
        "  else:\n",
        "    dic[book] =1\n",
        "\n",
        "target = max(list(dic.values()))\n",
        "top = []\n",
        "for name, count in dic.items():\n",
        "  if count == target:\n",
        "    top.append(name)\n",
        "\n",
        "print(sorted(top)[0])"
      ],
      "execution_count": 98,
      "outputs": [
        {
          "output_type": "stream",
          "text": [
            "5\n",
            "top\n",
            "top\n",
            "top\n",
            "as\n",
            "vk\n",
            "top\n"
          ],
          "name": "stdout"
        }
      ]
    }
  ]
}