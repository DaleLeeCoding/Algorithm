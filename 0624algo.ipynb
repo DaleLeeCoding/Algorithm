{
  "nbformat": 4,
  "nbformat_minor": 0,
  "metadata": {
    "colab": {
      "name": "0624algo.ipynb",
      "provenance": [],
      "collapsed_sections": [
        "h_KqYsmAQwig"
      ]
    },
    "kernelspec": {
      "name": "python3",
      "display_name": "Python 3"
    },
    "language_info": {
      "name": "python"
    }
  },
  "cells": [
    {
      "cell_type": "markdown",
      "metadata": {
        "id": "h_KqYsmAQwig"
      },
      "source": [
        "#0621"
      ]
    },
    {
      "cell_type": "code",
      "metadata": {
        "id": "3Ya3NpWX3azi"
      },
      "source": [
        "#PROB1. 배수를 거르는 문제\n",
        "##https://app.codesignal.com/arcade/intro/level-5/XC9Q2DhRRKQrfLhb5\n",
        "def avoidObstacles(inputArray):\n",
        "    cnt = 2\n",
        "    ck = False\n",
        "    while 1:\n",
        "        for elem in inputArray:\n",
        "            if elem%cnt == 0:\n",
        "                cnt += 1\n",
        "                break\n",
        "            if elem == inputArray[-1]: #마지막 원소인가\n",
        "                ck = True\n",
        "        if ck == True:\n",
        "                break\n",
        "    return cnt\n",
        "\n",
        "\n",
        "\n",
        "        \n",
        "\n"
      ],
      "execution_count": null,
      "outputs": []
    },
    {
      "cell_type": "code",
      "metadata": {
        "colab": {
          "base_uri": "https://localhost:8080/"
        },
        "id": "rVv6ktiN7cUV",
        "outputId": "f9f75b02-3a12-45f5-f107-e4cc7bbe8d52"
      },
      "source": [
        "# 파이썬 all 함수 예제들\n",
        " \n",
        "# 리스트\n",
        "a = [1,2,3,4,5]\n",
        "result = all(a)\n",
        "print(f'all([1,2,3,4,5]) : {result}')\n",
        " \n",
        " \n",
        "# 리스트 요소에 0 -> False 이 있는 경우\n",
        "b = [1,2,0,4,5]\n",
        "print(f'all([1,2,0,4,5]) : {all(b)}')\n",
        " \n",
        " \n",
        "# 리스트가 비어있는 경우\n",
        "c = []\n",
        "print(f'all([]) : {all(c)}')\n",
        " \n",
        " \n",
        "# 문자열\n",
        "d = 'BlockDMask'\n",
        "print(f'all(\\'BlockDMask\\') : {all(d)}')\n",
        " \n",
        " \n",
        "# 비어있는 문자열\n",
        "e = ''\n",
        "print(f'all(\\'\\') : {all(e)}')\n",
        " \n",
        " \n",
        "# 튜플\n",
        "f = ('b', 3, 'a')\n",
        "print(f\"all(('b', 3, 'a')) : {all(f)}\")\n",
        " \n",
        "# 0이 있는 튜플\n",
        "g = ('b', 2, 0, 'd')\n",
        "print(f\"all(('b', 2, 0, 'd')) : {all(g)}\")\n",
        " \n",
        "# 빈 문자열이 있는 튜플\n",
        "h = ('a', '', 2, 3)\n",
        "print(f\"all(('a', '', 2, 3)) : {all(h)}\")\n",
        " \n",
        "# 비어있는 튜플\n",
        "i = ()\n",
        "print(f\"all(()) : {all(i)}\")\n",
        "\n",
        "\n",
        "#출처: https://blockdmask.tistory.com/430 [개발자 지망생]"
      ],
      "execution_count": null,
      "outputs": [
        {
          "output_type": "stream",
          "text": [
            "all([1,2,3,4,5]) : True\n",
            "all([1,2,0,4,5]) : False\n",
            "all([]) : True\n",
            "all('BlockDMask') : True\n",
            "all('') : True\n",
            "all(('b', 3, 'a')) : True\n",
            "all(('b', 2, 0, 'd')) : False\n",
            "all(('a', '', 2, 3)) : False\n",
            "all(()) : True\n"
          ],
          "name": "stdout"
        }
      ]
    },
    {
      "cell_type": "code",
      "metadata": {
        "id": "sxFCeZlmAx-u"
      },
      "source": [
        "#matrix 표현\n",
        "res = [[0 for i in range(n)] for j in range(m)]"
      ],
      "execution_count": null,
      "outputs": []
    },
    {
      "cell_type": "code",
      "metadata": {
        "id": "rwn5xg0KGZZX"
      },
      "source": [
        "##PROB2\n",
        "#https://app.codesignal.com/arcade/intro/level-5/5xPitc3yT3dqS7XkP\n",
        "#행렬 표현, cnn같이 window이동해서 값 계산하기\n",
        "import math\n",
        "def boxBlur(image):\n",
        "    n = len(image[0])\n",
        "    m = len(image)\n",
        "    mat = [[0 for i in range(n-2)] for j in range(m-2)]\n",
        "    for i in range(m-2):\n",
        "        for j in range(n-2):\n",
        "            temp = 0\n",
        "            #temp  += sum(image[i][j:j+3])      #여기서 이렇게 하면 마지막에 index초과. range(1,n-1)로 둔 뒤 \n",
        "            #temp  += sum(image[i+1][j:j+3])\n",
        "            #temp  += sum(image[i+2][j:j+3])\n",
        "            temp  += image[i][j]+image[i][j+1]+image[i][j+2]   #sum([image[i+k][j+l] for k in [-1,0,1] for l in [-1,0,1]]) 이렇게 표현가능!\n",
        "            temp  += image[i+1][j]+image[i+1][j+1]+image[i+1][j+2]\n",
        "            temp  += image[i+2][j]+image[i+2][j+1]+image[i+2][j+2]\n",
        "            temp = math.floor(temp/9) # 그냥 temp//9 로 계산하는게 깔끔할듯\n",
        "            mat[i][j] = temp\n",
        "            \n",
        "    return mat\n",
        "  \n",
        "\n",
        "  ##SKILL\n",
        "  # range(n-2)\n",
        "        \n",
        "\n"
      ],
      "execution_count": null,
      "outputs": []
    },
    {
      "cell_type": "code",
      "metadata": {
        "id": "Q87Xm-9BQgcU"
      },
      "source": [
        "#PROB3\n",
        "#https://app.codesignal.com/arcade/intro/level-5/ZMR5n7vJbexnLrgaM/solutions\n",
        "#지뢰찾기\n",
        "def minesweeper(matrix):\n",
        "    N = len(matrix)\n",
        "    M = len(matrix[0])\n",
        "    mat = [[0 for i in range(M+2)] for j in range(N+2)] #zero padding\n",
        "    res = [[0 for i in range(M)] for j in range(N)]\n",
        "    for i in range(N):\n",
        "        for j in range(M):\n",
        "            mat[i+1][j+1] = matrix[i][j]  \n",
        "    for i in range(N):\n",
        "        for j in range(M):\n",
        "            res[i][j] = sum([mat[i+k+1][j+l+1] for k in [-1, 0, 1] for l in [-1, 0,1]])-mat[i+1][j+1]\n",
        "            \n",
        "    return res\n",
        "    \n",
        "    \n",
        "\n",
        "##다른 풀이\n",
        "def minesweeper(matrix):\n",
        "    N, M = len(matrix), len(matrix[0])\n",
        "    def neighbours(i, j):\n",
        "        return sum(matrix[ii][jj] for ii in range(i-1, i+2) if 0 <= ii < N\n",
        "                                  for jj in range(j-1, j+2) if 0 <= jj < M\n",
        "                                  if i != ii or j != jj)\n",
        "    return [[neighbours(i, j) for j in range(M)] for i in range(N)]"
      ],
      "execution_count": null,
      "outputs": []
    },
    {
      "cell_type": "code",
      "metadata": {
        "id": "kCv2Y8eZPC4k"
      },
      "source": [
        "#PROB4\n",
        "#https://www.acmicpc.net/problem/2920\n",
        "#음계\n",
        "lst = list(map(int, input().split(' ')))\n",
        "if sorted(lst) == lst:\n",
        "  print('ascending')\n",
        "elif sorted(lst, reverse=True) == lst:\n",
        "  print('descending')\n",
        "else:\n",
        "  print('mixed')\n",
        "  "
      ],
      "execution_count": null,
      "outputs": []
    },
    {
      "cell_type": "code",
      "metadata": {
        "colab": {
          "base_uri": "https://localhost:8080/"
        },
        "id": "U2u5lDEBT3j_",
        "outputId": "d70c79ac-298c-4afc-efa0-7726c601818f"
      },
      "source": [
        "#PROB5\n",
        "#https://www.acmicpc.net/problem/2798\n",
        "#블랙잭, 완전탐색, brute-force\n",
        "n, m = map(int, input().split(' '))\n",
        "lst = list(map(int, input().split(' ')))\n",
        "res = 0;\n",
        "for i in range(n-2):\n",
        "  for j in range(i+1, n-1):\n",
        "    for k in range(j+1, n):  \n",
        "      temp = lst[i]+lst[j]+lst[k]\n",
        "      if temp <= m and temp > res:\n",
        "        res = temp\n",
        "print(res)\n"
      ],
      "execution_count": null,
      "outputs": [
        {
          "output_type": "stream",
          "text": [
            "10 500\n",
            "93 181 245 214 315 36 185 138 216 295\n"
          ],
          "name": "stdout"
        },
        {
          "output_type": "execute_result",
          "data": {
            "text/plain": [
              "497"
            ]
          },
          "metadata": {
            "tags": []
          },
          "execution_count": 146
        }
      ]
    },
    {
      "cell_type": "code",
      "metadata": {
        "colab": {
          "base_uri": "https://localhost:8080/"
        },
        "id": "WIPQ9Tr7T4Hc",
        "outputId": "ee24c9a4-6208-43cf-bdd3-671ac2307679"
      },
      "source": [
        "#PROB6\n",
        "try:\n",
        "    lst = []\n",
        "    res = []\n",
        "    a = int(input())\n",
        "    cnt = 0\n",
        "    for i in range(a):\n",
        "      t = int(input())\n",
        "      if t in lst:\n",
        "          for j in range(len(lst)-lst.index(t)):\n",
        "              lst.pop()\n",
        "              res.append('-')\n",
        "      else:\n",
        "          for k in range(t-cnt):\n",
        "              cnt += 1 \n",
        "              lst.append(cnt)\n",
        "              res.append('+')\n",
        "          lst.pop()\n",
        "          res.append('-')\n",
        "    for elem in res:\n",
        "        print(elem)\n",
        "except:\n",
        "    print('NO')\n"
      ],
      "execution_count": null,
      "outputs": [
        {
          "output_type": "stream",
          "text": [
            "8\n",
            "4\n",
            "3\n",
            "6\n",
            "8\n",
            "7\n",
            "5\n",
            "2\n",
            "1\n",
            "+\n",
            "+\n",
            "+\n",
            "+\n",
            "-\n",
            "-\n",
            "+\n",
            "+\n",
            "-\n",
            "+\n",
            "+\n",
            "-\n",
            "-\n",
            "-\n",
            "-\n",
            "-\n"
          ],
          "name": "stdout"
        }
      ]
    },
    {
      "cell_type": "code",
      "metadata": {
        "id": "991RpVIDd_sy"
      },
      "source": [
        ""
      ],
      "execution_count": null,
      "outputs": []
    },
    {
      "cell_type": "markdown",
      "metadata": {
        "id": "nEUH7mhBQzP-"
      },
      "source": [
        "#0623"
      ]
    },
    {
      "cell_type": "code",
      "metadata": {
        "id": "AZSAPhD4ZP1l"
      },
      "source": [
        "#에러 생겼을 때 바로 \n",
        "exit(0)\n",
        "#으로 빠져나올 수 있다."
      ],
      "execution_count": null,
      "outputs": []
    },
    {
      "cell_type": "markdown",
      "metadata": {
        "id": "Rj91B0B0aY6a"
      },
      "source": [
        "string 사이에 문자 넣기"
      ]
    },
    {
      "cell_type": "code",
      "metadata": {
        "colab": {
          "base_uri": "https://localhost:8080/"
        },
        "id": "lkzP3SSJZWzU",
        "outputId": "2a2b26cd-e346-4ec2-dfa1-049e6cd48085"
      },
      "source": [
        "lst = ['a','b','c']\n",
        "print('\\n'.join(lst))"
      ],
      "execution_count": null,
      "outputs": [
        {
          "output_type": "stream",
          "text": [
            "a\n",
            "b\n",
            "c\n"
          ],
          "name": "stdout"
        }
      ]
    },
    {
      "cell_type": "code",
      "metadata": {
        "colab": {
          "base_uri": "https://localhost:8080/",
          "height": 35
        },
        "id": "lubOURQbZjEr",
        "outputId": "138f2971-8964-4fb1-8b44-96fffc27167b"
      },
      "source": [
        "'a'.join(lst)"
      ],
      "execution_count": null,
      "outputs": [
        {
          "output_type": "execute_result",
          "data": {
            "application/vnd.google.colaboratory.intrinsic+json": {
              "type": "string"
            },
            "text/plain": [
              "'aabac'"
            ]
          },
          "metadata": {
            "tags": []
          },
          "execution_count": 3
        }
      ]
    },
    {
      "cell_type": "code",
      "metadata": {
        "colab": {
          "base_uri": "https://localhost:8080/",
          "height": 35
        },
        "id": "jQXEne43aNds",
        "outputId": "13ab820c-5815-4938-f560-a153484e93d9"
      },
      "source": [
        "'k'.join(lst)"
      ],
      "execution_count": null,
      "outputs": [
        {
          "output_type": "execute_result",
          "data": {
            "application/vnd.google.colaboratory.intrinsic+json": {
              "type": "string"
            },
            "text/plain": [
              "'akbkc'"
            ]
          },
          "metadata": {
            "tags": []
          },
          "execution_count": 4
        }
      ]
    },
    {
      "cell_type": "code",
      "metadata": {
        "colab": {
          "base_uri": "https://localhost:8080/",
          "height": 35
        },
        "id": "oZph2GRMaQpL",
        "outputId": "15d8df91-973a-4f8b-ec99-c79fa0a9f0ff"
      },
      "source": [
        "' '.join(lst)"
      ],
      "execution_count": null,
      "outputs": [
        {
          "output_type": "execute_result",
          "data": {
            "application/vnd.google.colaboratory.intrinsic+json": {
              "type": "string"
            },
            "text/plain": [
              "'a b c'"
            ]
          },
          "metadata": {
            "tags": []
          },
          "execution_count": 6
        }
      ]
    },
    {
      "cell_type": "code",
      "metadata": {
        "colab": {
          "base_uri": "https://localhost:8080/"
        },
        "id": "d0X_pDaMeYMN",
        "outputId": "2b66bfae-25f2-4fdf-b98e-03e18250b1ed"
      },
      "source": [
        "#Queue\n",
        "#https://www.acmicpc.net/problem/1966\n",
        "a = int(input())\n",
        "\n",
        "for i in range(a):\n",
        "    lst = []\n",
        "    cnt = 0\n",
        "    b, c = map(int, input().split(' '))\n",
        "    lst.extend(list(map(int, input().split(' '))))\n",
        "    target = lst[c]\n",
        "    while lst[0] != max(lst) or c != 0:  #그냥 무한루프 돌리고 조건문 추가하는게 깔끔할듯\n",
        "        if lst[0] == max(lst):\n",
        "            lst = lst[1:]\n",
        "            cnt +=1\n",
        "            c -=1\n",
        "        else:\n",
        "            front = lst[0]\n",
        "            lst = lst[1:]\n",
        "            lst.append(front)\n",
        "            if c == 0:\n",
        "                c = len(lst)-1\n",
        "            else:\n",
        "                c -= 1\n",
        "    print(cnt +1)\n",
        "\n",
        "\n",
        "\n"
      ],
      "execution_count": null,
      "outputs": [
        {
          "output_type": "stream",
          "text": [
            "1\n",
            "4 1\n",
            "2 1 3 1\n",
            "[2, 1, 3, 1]\n",
            "3\n"
          ],
          "name": "stdout"
        }
      ]
    },
    {
      "cell_type": "code",
      "metadata": {
        "id": "9w2S8sg_jt5f",
        "colab": {
          "base_uri": "https://localhost:8080/"
        },
        "outputId": "2a67a7bc-f62a-4521-bd17-13e75cde967e"
      },
      "source": [
        "#키로거\n",
        "#https://www.acmicpc.net/problem/5397\n",
        "cnt = int(input())\n",
        "for i in range(cnt):\n",
        "  lst = input()\n",
        "  idx = 0\n",
        "  res = []\n",
        "  len = 0\n",
        "  for elem in lst:\n",
        "      if elem == '<':\n",
        "          idx = max(0, idx-1)\n",
        "      elif elem == '>':\n",
        "          if len > idx:\n",
        "              idx += 1\n",
        "      elif elem == '-':\n",
        "          if idx == 0:\n",
        "              continue\n",
        "          else:\n",
        "              res.pop(idx-1)\n",
        "              idx -= 1\n",
        "              len -= 1\n",
        "      else:\n",
        "          res.insert(idx, elem)\n",
        "          idx += 1\n",
        "          len += 1\n",
        "  print(''.join(res))\n",
        "\n"
      ],
      "execution_count": null,
      "outputs": [
        {
          "output_type": "stream",
          "text": [
            "2\n",
            "<<BP<A>>Cd-\n",
            "BAPC\n",
            "ThIsIsS3Cr3t\n",
            "ThIsIsS3Cr3t\n"
          ],
          "name": "stdout"
        }
      ]
    },
    {
      "cell_type": "code",
      "metadata": {
        "colab": {
          "base_uri": "https://localhost:8080/"
        },
        "id": "84vncDJSH9Rp",
        "outputId": "4cc42be5-5ece-4881-df1a-53ec3243ba62"
      },
      "source": [
        "#키로거\n",
        "#https://www.acmicpc.net/problem/5397\n",
        "cnt = int(input())\n",
        "for i in range(cnt):\n",
        "  lst = input()\n",
        "  left = []\n",
        "  right = []\n",
        "  for elem in lst:\n",
        "      if elem == '<':\n",
        "          if len(left) == 0:  #그냥 left로 해서 bool 이용할 수 있음.\n",
        "            continue\n",
        "          else:\n",
        "            right.append(left.pop())\n",
        "      elif elem == '>':\n",
        "          if len(right) == 0:\n",
        "            continue\n",
        "          else:\n",
        "            left.append(right.pop())\n",
        "      elif elem == '-':\n",
        "          if len(left) == 0:\n",
        "              continue\n",
        "          else:\n",
        "              left.pop()\n",
        "      else:\n",
        "          left.append(elem)\n",
        "  right = list(reversed(right))\n",
        "  left.extend(right)\n",
        "  print(''.join(left))\n",
        "\n"
      ],
      "execution_count": null,
      "outputs": [
        {
          "output_type": "stream",
          "text": [
            "1\n",
            "j><>-<u->xb<<a\n",
            "axb\n"
          ],
          "name": "stdout"
        }
      ]
    },
    {
      "cell_type": "code",
      "metadata": {
        "colab": {
          "base_uri": "https://localhost:8080/"
        },
        "id": "sgiH4CQGK3hq",
        "outputId": "abd73171-e0a8-4645-dd69-0f96c4f168e9"
      },
      "source": [
        "lst = [1,2,3]\n",
        "right = []\n",
        "right.append(lst.pop())\n",
        "print(lst)\n",
        "right"
      ],
      "execution_count": null,
      "outputs": [
        {
          "output_type": "stream",
          "text": [
            "[1, 2]\n"
          ],
          "name": "stdout"
        },
        {
          "output_type": "execute_result",
          "data": {
            "text/plain": [
              "[3]"
            ]
          },
          "metadata": {
            "tags": []
          },
          "execution_count": 24
        }
      ]
    },
    {
      "cell_type": "code",
      "metadata": {
        "id": "SBFW7UynK41-"
      },
      "source": [
        "printlst.extend(right)"
      ],
      "execution_count": null,
      "outputs": []
    },
    {
      "cell_type": "code",
      "metadata": {
        "colab": {
          "base_uri": "https://localhost:8080/",
          "height": 35
        },
        "id": "vQABdzv3MPt7",
        "outputId": "906359ff-9379-4f2c-ab99-7a6684b24c17"
      },
      "source": [
        "lst"
      ],
      "execution_count": null,
      "outputs": [
        {
          "output_type": "execute_result",
          "data": {
            "application/vnd.google.colaboratory.intrinsic+json": {
              "type": "string"
            },
            "text/plain": [
              "'j><>-<u->xb<<a'"
            ]
          },
          "metadata": {
            "tags": []
          },
          "execution_count": 29
        }
      ]
    },
    {
      "cell_type": "code",
      "metadata": {
        "id": "_SM5fJJNMQXb"
      },
      "source": [
        "lst = [1,2,3]"
      ],
      "execution_count": null,
      "outputs": []
    },
    {
      "cell_type": "code",
      "metadata": {
        "id": "kTkxrB4eMw0E"
      },
      "source": [
        "lst = list(reversed(lst))"
      ],
      "execution_count": null,
      "outputs": []
    },
    {
      "cell_type": "code",
      "metadata": {
        "colab": {
          "base_uri": "https://localhost:8080/"
        },
        "id": "sykf17CIMx4s",
        "outputId": "f79de909-b98e-4a35-8acf-b487af82e058"
      },
      "source": [
        "lst"
      ],
      "execution_count": null,
      "outputs": [
        {
          "output_type": "execute_result",
          "data": {
            "text/plain": [
              "[3, 2, 1]"
            ]
          },
          "metadata": {
            "tags": []
          },
          "execution_count": 37
        }
      ]
    },
    {
      "cell_type": "code",
      "metadata": {
        "colab": {
          "base_uri": "https://localhost:8080/"
        },
        "id": "AZ0yR5kxMyML",
        "outputId": "b1ad5011-da75-46b0-de28-1040f7960511"
      },
      "source": [
        "#수 정렬\n",
        "#https://www.acmicpc.net/problem/2750\n",
        "a = int(input())\n",
        "lst = []\n",
        "for i in range(a):\n",
        "  b = int(input())\n",
        "  lst.append(b)\n",
        "lst.sort()\n",
        "for elem in lst:\n",
        "  print(elem)"
      ],
      "execution_count": null,
      "outputs": [
        {
          "output_type": "stream",
          "text": [
            "5\n",
            "5\n",
            "2\n",
            "3\n",
            "4\n",
            "1\n",
            "1\n",
            "2\n",
            "3\n",
            "4\n",
            "5\n"
          ],
          "name": "stdout"
        }
      ]
    },
    {
      "cell_type": "code",
      "metadata": {
        "id": "_Y_aN7ZRNTU7",
        "colab": {
          "base_uri": "https://localhost:8080/"
        },
        "outputId": "7febe7db-fc7c-4cd4-e4f5-c056b7ddd4dd"
      },
      "source": [
        "#해시\n",
        "#https://www.acmicpc.net/problem/10930\n",
        "import hashlib\n",
        "input_data = input()\n",
        "encoded_data = input_data.encode()\n",
        "result = hashlib.sha256(encoded_data).hexdigest()\n",
        "print(result)"
      ],
      "execution_count": null,
      "outputs": [
        {
          "output_type": "stream",
          "text": [
            "as\n",
            "f4bf9f7fcbedaba0392f108c59d8f4a38b3838efb64877380171b54475c2ade8\n"
          ],
          "name": "stdout"
        }
      ]
    },
    {
      "cell_type": "code",
      "metadata": {
        "colab": {
          "base_uri": "https://localhost:8080/"
        },
        "id": "bYPnsrJbehea",
        "outputId": "6483691e-5a45-40be-d035-06f5e9302b96"
      },
      "source": [
        "#수 찾기\n",
        "#https://www.acmicpc.net/problem/1920\n",
        "a = int(input())\n",
        "lst = list(map(int, input().split(' '))) #들어있는지 더 빠르게 확인 하려면 set으로 해도 됨\n",
        "b = int(input())\n",
        "check = list(map(int, input().split(' ')))\n",
        "for i in check:\n",
        "    if i in lst:\n",
        "        print('1')\n",
        "    else:\n",
        "        print('0')"
      ],
      "execution_count": null,
      "outputs": [
        {
          "output_type": "stream",
          "text": [
            "5\n",
            "4 1 5 2 3\n",
            "5\n",
            "1 3 7 9 5\n",
            "1\n",
            "1\n",
            "0\n",
            "0\n",
            "1\n"
          ],
          "name": "stdout"
        }
      ]
    },
    {
      "cell_type": "code",
      "metadata": {
        "colab": {
          "base_uri": "https://localhost:8080/"
        },
        "id": "GQAR5LQDearM",
        "outputId": "0d0c217f-556b-43e9-d5d8-3d6ba2d5eab9"
      },
      "source": [
        "#친구 네트워크\n",
        "#https://www.acmicpc.net/problem/4195\n",
        "#내 풀이\n",
        "num = int(input())\n",
        "for i in range(num):\n",
        "    rel = int(input())\n",
        "    fr = {}\n",
        "    friends = set()\n",
        "    for j in range(rel):\n",
        "        f1, f2 = list(map(str, input().split(' ')))\n",
        "        keys = list(fr.keys())\n",
        "        if f1 not in keys:\n",
        "            fr[f1] = set([f2])\n",
        "        else:\n",
        "            fr[f1].update([f2])\n",
        "        if f2 not in keys:\n",
        "            fr[f2] = set([f1])\n",
        "        else:\n",
        "            fr[f2].update([f1])\n",
        "        temp = (fr[f1]) | (fr[f2])\n",
        "        if not friends:\n",
        "            friends.update([f1], [f2])\n",
        "        if friends & temp:\n",
        "            friends = friends | temp\n",
        "\n",
        "    \n",
        "    \n",
        "\n",
        "\n",
        "\n"
      ],
      "execution_count": null,
      "outputs": [
        {
          "output_type": "stream",
          "text": [
            "2\n",
            "3\n",
            "Fred Barney\n",
            "f1:  Fred\n",
            "f2:  Barney\n",
            "{'Fred': {'Barney'}, 'Barney': {'Fred'}}\n",
            "{'Fred', 'Barney'}\n",
            "2\n",
            "Barney Betty\n",
            "f1:  Barney\n",
            "f2:  Betty\n",
            "{'Fred': {'Barney'}, 'Barney': {'Fred', 'Betty'}, 'Betty': {'Barney'}}\n",
            "{'Fred', 'Betty', 'Barney'}\n",
            "3\n",
            "Betty Wilma\n",
            "f1:  Betty\n",
            "f2:  Wilma\n",
            "{'Fred': {'Barney'}, 'Barney': {'Fred', 'Betty'}, 'Betty': {'Barney', 'Wilma'}, 'Wilma': {'Betty'}}\n",
            "{'Fred', 'Betty', 'Barney', 'Wilma'}\n",
            "4\n",
            "3\n",
            "Fred Barney\n",
            "f1:  Fred\n",
            "f2:  Barney\n",
            "{'Fred': {'Barney'}, 'Barney': {'Fred'}}\n",
            "{'Fred', 'Barney'}\n",
            "2\n",
            "Betty Wilma\n",
            "f1:  Betty\n",
            "f2:  Wilma\n",
            "{'Fred': {'Barney'}, 'Barney': {'Fred'}, 'Betty': {'Wilma'}, 'Wilma': {'Betty'}}\n",
            "{'Fred', 'Barney'}\n",
            "2\n",
            "Barney Betty\n",
            "f1:  Barney\n",
            "f2:  Betty\n",
            "{'Fred': {'Barney'}, 'Barney': {'Fred', 'Betty'}, 'Betty': {'Barney', 'Wilma'}, 'Wilma': {'Betty'}}\n",
            "{'Fred', 'Betty', 'Barney', 'Wilma'}\n",
            "4\n"
          ],
          "name": "stdout"
        }
      ]
    },
    {
      "cell_type": "code",
      "metadata": {
        "colab": {
          "base_uri": "https://localhost:8080/"
        },
        "id": "pNBCxHN7lhYp",
        "outputId": "ac596958-1333-4bfa-fa41-ea3200e832be"
      },
      "source": [
        "#시간초과\n",
        "def find(x):\n",
        "    if x == parent[dic[x]]:\n",
        "        return x\n",
        "    else:\n",
        "        p = find(parent[dic[x]])\n",
        "        parent[dic[x]] = p\n",
        "        return parent[dic[x]]\n",
        "\n",
        "def union(x, y):\n",
        "    x = find(x)\n",
        "    y = find(y)\n",
        "    temp = parent[dic[y]]\n",
        "    while parent.count(temp):\n",
        "        parent[parent.index(temp)] = x\n",
        "\n",
        "    \n",
        "\n",
        "num = int(input())\n",
        "\n",
        "for i in range(num):\n",
        "    rel = int(input())\n",
        "    parent = []\n",
        "    dic = {}\n",
        "    cnt = 0\n",
        "    for j in range(rel):\n",
        "        f1, f2 = list(map(str, input().split(' ')))\n",
        "        if f1 not in list(dic.keys()):\n",
        "            parent.append(f1)\n",
        "            dic[f1] = cnt\n",
        "            cnt +=1\n",
        "        if f2 not in list(dic.keys()):\n",
        "            parent.append(f2)\n",
        "            dic[f2] = cnt\n",
        "            cnt +=1\n",
        "        union(f1, f2)\n",
        "        print(parent.count(max(parent, key = parent.count))) #빈도수 기준으로 최대인 것을 뽑아내는 아이디어. max함수에서 key값을 활용한다.\n"
      ],
      "execution_count": null,
      "outputs": [
        {
          "output_type": "stream",
          "text": [
            "1\n",
            "3\n",
            "Fred Barney\n",
            "befor:  ['Fred', 'Barney']\n",
            "after:  ['Fred', 'Fred']\n",
            "2\n",
            "Betty Wilma\n",
            "befor:  ['Fred', 'Fred', 'Betty', 'Wilma']\n",
            "after:  ['Fred', 'Fred', 'Betty', 'Betty']\n",
            "2\n",
            "Barney Betty\n",
            "befor:  ['Fred', 'Fred', 'Betty', 'Betty']\n",
            "after:  ['Fred', 'Fred', 'Fred', 'Fred']\n",
            "4\n"
          ],
          "name": "stdout"
        }
      ]
    },
    {
      "cell_type": "code",
      "metadata": {
        "colab": {
          "base_uri": "https://localhost:8080/"
        },
        "id": "1AvaK8zoUOWW",
        "outputId": "739d9e17-5e7a-4037-d3c7-d222472eef9f"
      },
      "source": [
        "#dictionary 2개를 활용\n",
        "#특히 number를 활용한 아이디어가 좋았다.\n",
        "\n",
        "def find(x):\n",
        "    if x == parent[x]:\n",
        "        return x\n",
        "    else:\n",
        "        p = find(parent[x])\n",
        "        parent[x] = p\n",
        "        return parent[x]\n",
        "\n",
        "def union(x, y):\n",
        "    x = find(x)\n",
        "    y = find(y)\n",
        "    if x != y:\n",
        "        parent[y] = x\n",
        "        number[x] += number[y]\n",
        "    \n",
        "\n",
        "num = int(input())\n",
        "\n",
        "for i in range(num):\n",
        "    rel = int(input())\n",
        "    parent = {}\n",
        "    number = {}\n",
        "    for j in range(rel):\n",
        "        f1, f2 = input().split(' ')\n",
        "        if f1 not in parent:\n",
        "            parent[f1] = f1 \n",
        "            number[f1] = 1\n",
        "        if f2 not in parent:\n",
        "            parent[f2] = f2 \n",
        "            number[f2] = 1\n",
        "        union(f1, f2)\n",
        "        print(number[find(f1)])\n"
      ],
      "execution_count": null,
      "outputs": [
        {
          "output_type": "stream",
          "text": [
            "2\n",
            "3\n",
            "Fred Barney\n",
            "2\n",
            "Barney Betty\n",
            "3\n",
            "Betty Wilma\n",
            "4\n",
            "3\n",
            "Fred Barney\n",
            "2\n",
            "Betty Wilma\n",
            "2\n",
            "Barney Betty\n",
            "4\n"
          ],
          "name": "stdout"
        }
      ]
    },
    {
      "cell_type": "code",
      "metadata": {
        "id": "Aes19lXgdZUh"
      },
      "source": [
        "Fred Barney\n"
      ],
      "execution_count": null,
      "outputs": []
    }
  ]
}